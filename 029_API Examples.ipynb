{
 "cells": [
  {
   "cell_type": "markdown",
   "metadata": {},
   "source": [
    "<center>\n",
    "    <img src=\"https://cf-courses-data.s3.us.cloud-object-storage.appdomain.cloud/assets/logos/SN_web_lightmode.png\" width=\"300\" alt=\"cognitiveclass.ai logo\">\n",
    "</center>\n",
    "\n",
    "# Hands-on Lab: API Examples\n",
    "## Random User and Fruityvice API Examples\n",
    "\n",
    "\n",
    "Estimated time needed: **30** minutes\n",
    "\n",
    "## Objectives\n",
    "\n",
    "After completing this lab you will be able to:\n",
    "\n",
    "*   Load and use RandomUser API, using `RandomUser()` Python library\n",
    "*   Load and use Fruityvice API, using `requests` Python library\n",
    "*   Load and use Open-Joke-API, using `requests` Python library\n",
    "\n"
   ]
  },
  {
   "cell_type": "markdown",
   "metadata": {},
   "source": [
    "The purpose of this notebook is to provide more examples on how to use simple APIs. As you have already learned from previous videos and notebooks, API stands for Application Programming Interface and is a software intermediary that allows two applications to talk to each other. \n",
    "\n",
    "The advantages of using APIs:\n",
    " *   **Automation**. Less human effort is required and workflows can be easily updated to become faster and more      \n",
    "     productive.\n",
    " *   **Efficiency**. It allows to use the capabilities of one of the already developed APIs than to try to \n",
    "     independently implement some functionality from scratch.\n",
    " \n",
    "The disadvantage of using APIs:\n",
    " *   **Security**. If the API is poorly integrated, it means it will be vulnerable to attacks, resulting in data breeches or losses having financial or reputation implications.\n",
    "\n",
    "One of the applications we will use in this notebook is Random User Generator. RandomUser is an open-source, free API providing developers with randomly generated users to be used as placeholders for testing purposes. This makes the tool similar to Lorem Ipsum, but is a placeholder for people instead of text. The API can return multiple results, as well as specify generated user details such as gender, email, image, username, address, title, first and last name, and more. More information on [RandomUser](https://randomuser.me/documentation#intro) can be found here.\n",
    "\n",
    "Another example of simple API we will use in this notebook is Fruityvice application. The Fruityvice API web service which provides data for all kinds of fruit! You can use Fruityvice to find out interesting information about fruit and educate yourself. The web service is completely free to use and contribute to.\n"
   ]
  },
  {
   "cell_type": "markdown",
   "metadata": {},
   "source": [
    "## Example 1: RandomUser API\n",
    "Bellow are Get Methods parameters that we can generate. For more information on the parameters, please visit this [documentation](https://randomuser.me/documentation) page.\n"
   ]
  },
  {
   "cell_type": "markdown",
   "metadata": {},
   "source": [
    "## **Get Methods**\n",
    "\n",
    "- get_cell()\n",
    "- get_city()\n",
    "- get_dob()\n",
    "- get_email()\n",
    "- get_first_name()\n",
    "- get_full_name()\n",
    "- get_gender()\n",
    "- get_id()\n",
    "- get_id_number()\n",
    "- get_id_type()\n",
    "- get_info()\n",
    "- get_last_name()\n",
    "- get_login_md5()\n",
    "- get_login_salt()\n",
    "- get_login_sha1()\n",
    "- get_login_sha256()\n",
    "- get_nat()\n",
    "- get_password()\n",
    "- get_phone()\n",
    "- get_picture()\n",
    "- get_postcode()\n",
    "- get_registered()\n",
    "- get_state()\n",
    "- get_street()\n",
    "- get_username()\n",
    "- get_zipcode()\n"
   ]
  },
  {
   "cell_type": "markdown",
   "metadata": {},
   "source": [
    "To start using the API you can install the `randomuser` library running the `pip install` command.\n"
   ]
  },
  {
   "cell_type": "code",
   "execution_count": 6,
   "metadata": {
    "tags": []
   },
   "outputs": [
    {
     "name": "stdout",
     "output_type": "stream",
     "text": [
      "Collecting randomuser\n",
      "  Downloading randomuser-1.6.tar.gz (5.0 kB)\n",
      "  Preparing metadata (setup.py): started\n",
      "  Preparing metadata (setup.py): finished with status 'done'\n",
      "Building wheels for collected packages: randomuser\n",
      "  Building wheel for randomuser (setup.py): started\n",
      "  Building wheel for randomuser (setup.py): finished with status 'done'\n",
      "  Created wheel for randomuser: filename=randomuser-1.6-py3-none-any.whl size=5090 sha256=2ed42ad9f1552eb83d96b6351ebf91639f32145712cc1c92dd2e2de677af62f0\n",
      "  Stored in directory: c:\\users\\shali\\appdata\\local\\pip\\cache\\wheels\\be\\62\\c8\\71e1b48f4758ea5b78af7595d87178f628cde315a3326610ee\n",
      "Successfully built randomuser\n",
      "Installing collected packages: randomuser\n",
      "Successfully installed randomuser-1.6\n"
     ]
    }
   ],
   "source": [
    "!pip install randomuser"
   ]
  },
  {
   "cell_type": "markdown",
   "metadata": {},
   "source": [
    "Then, we will load the necessary libraries.\n"
   ]
  },
  {
   "cell_type": "code",
   "execution_count": 49,
   "metadata": {
    "tags": []
   },
   "outputs": [],
   "source": [
    "from randomuser import RandomUser\n",
    "import pandas as pd"
   ]
  },
  {
   "cell_type": "markdown",
   "metadata": {},
   "source": [
    "First, we will create a random user object, r.\n"
   ]
  },
  {
   "cell_type": "code",
   "execution_count": 51,
   "metadata": {
    "tags": []
   },
   "outputs": [],
   "source": [
    "r = RandomUser()"
   ]
  },
  {
   "cell_type": "markdown",
   "metadata": {},
   "source": [
    "Then, using `generate_users()` function, we get a list of random 10 users.\n"
   ]
  },
  {
   "cell_type": "code",
   "execution_count": 53,
   "metadata": {
    "tags": []
   },
   "outputs": [],
   "source": [
    "some_list = r.generate_users(10)"
   ]
  },
  {
   "cell_type": "code",
   "execution_count": 55,
   "metadata": {
    "tags": []
   },
   "outputs": [
    {
     "data": {
      "text/plain": [
       "[<randomuser.RandomUser at 0x1680d328c50>,\n",
       " <randomuser.RandomUser at 0x1680d3291f0>,\n",
       " <randomuser.RandomUser at 0x1680d329d90>,\n",
       " <randomuser.RandomUser at 0x1680d328380>,\n",
       " <randomuser.RandomUser at 0x1680d329760>,\n",
       " <randomuser.RandomUser at 0x1680d32bf80>,\n",
       " <randomuser.RandomUser at 0x1680d32ba10>,\n",
       " <randomuser.RandomUser at 0x1680d32bce0>,\n",
       " <randomuser.RandomUser at 0x1680d3295b0>,\n",
       " <randomuser.RandomUser at 0x1680d3298b0>]"
      ]
     },
     "execution_count": 55,
     "metadata": {},
     "output_type": "execute_result"
    }
   ],
   "source": [
    "some_list"
   ]
  },
  {
   "cell_type": "markdown",
   "metadata": {},
   "source": [
    "The **\"Get Methods\"** functions mentioned at the beginning of this notebook, can generate the required parameters to construct a dataset. For example, to get full name, we call `get_full_name()` function.\n"
   ]
  },
  {
   "cell_type": "code",
   "execution_count": 57,
   "metadata": {
    "tags": []
   },
   "outputs": [],
   "source": [
    "name = r.get_full_name()"
   ]
  },
  {
   "cell_type": "markdown",
   "metadata": {},
   "source": [
    "Let's say we only need 10 users with full names and their email addresses. We can write a \"for-loop\" to print these 10 users.\n"
   ]
  },
  {
   "cell_type": "code",
   "execution_count": 59,
   "metadata": {
    "tags": []
   },
   "outputs": [
    {
     "name": "stdout",
     "output_type": "stream",
     "text": [
      "Mackenzie White   mackenzie.white@example.com\n",
      "Austin Patel   austin.patel@example.com\n",
      "Shamir Elbers   shamir.elbers@example.com\n",
      "Ella Anderson   ella.anderson@example.com\n",
      "Gard Aasbø   gard.aasbo@example.com\n",
      "Ellie Little   ellie.little@example.com\n",
      "Afet Yorulmaz   afet.yorulmaz@example.com\n",
      "Myrtle Morrison   myrtle.morrison@example.com\n",
      "Annabelle Anderson   annabelle.anderson@example.com\n",
      "Baer Kars   baer.kars@example.com\n"
     ]
    }
   ],
   "source": [
    "for user in some_list:\n",
    "    print (user.get_full_name(),\" \",user.get_email())"
   ]
  },
  {
   "cell_type": "markdown",
   "metadata": {},
   "source": [
    "## Exercise 1\n",
    "In this Exercise, generate photos of the random 10 users.\n"
   ]
  },
  {
   "cell_type": "code",
   "execution_count": 61,
   "metadata": {
    "tags": []
   },
   "outputs": [
    {
     "name": "stdout",
     "output_type": "stream",
     "text": [
      "https://randomuser.me/api/portraits/women/18.jpg\n",
      "https://randomuser.me/api/portraits/men/8.jpg\n",
      "https://randomuser.me/api/portraits/men/18.jpg\n",
      "https://randomuser.me/api/portraits/women/35.jpg\n",
      "https://randomuser.me/api/portraits/men/17.jpg\n",
      "https://randomuser.me/api/portraits/women/64.jpg\n",
      "https://randomuser.me/api/portraits/women/64.jpg\n",
      "https://randomuser.me/api/portraits/women/2.jpg\n",
      "https://randomuser.me/api/portraits/women/41.jpg\n",
      "https://randomuser.me/api/portraits/men/61.jpg\n"
     ]
    }
   ],
   "source": [
    "## Write your code here\n",
    "\n",
    "for user in some_list:\n",
    "    print (user.get_picture())\n"
   ]
  },
  {
   "cell_type": "markdown",
   "metadata": {},
   "source": [
    "<details><summary>Click here for the solution</summary>\n",
    "\n",
    "```python\n",
    "for user in some_list:\n",
    "    print (user.get_picture())\n",
    "```\n",
    "\n",
    "</details>\n"
   ]
  },
  {
   "cell_type": "markdown",
   "metadata": {},
   "source": [
    "To generate a table with information about the users, we can write a function containing all desirable parameters. For example, name, gender, city, etc. The parameters will depend on the requirements of the test to be performed. We call the Get Methods, listed at the beginning of this notebook. Then, we return pandas dataframe with the users.\n"
   ]
  },
  {
   "cell_type": "code",
   "execution_count": 63,
   "metadata": {
    "tags": []
   },
   "outputs": [],
   "source": [
    "def get_users():\n",
    "    users =[]\n",
    "     \n",
    "    for user in RandomUser.generate_users(10):\n",
    "        users.append({\"Name\":user.get_full_name(),\"Gender\":user.get_gender(),\"City\":user.get_city(),\"State\":user.get_state(),\"Email\":user.get_email(), \"DOB\":user.get_dob(),\"Picture\":user.get_picture()})\n",
    "      \n",
    "    return pd.DataFrame(users)     "
   ]
  },
  {
   "cell_type": "code",
   "execution_count": 23,
   "metadata": {
    "tags": []
   },
   "outputs": [
    {
     "data": {
      "text/html": [
       "<div>\n",
       "<style scoped>\n",
       "    .dataframe tbody tr th:only-of-type {\n",
       "        vertical-align: middle;\n",
       "    }\n",
       "\n",
       "    .dataframe tbody tr th {\n",
       "        vertical-align: top;\n",
       "    }\n",
       "\n",
       "    .dataframe thead th {\n",
       "        text-align: right;\n",
       "    }\n",
       "</style>\n",
       "<table border=\"1\" class=\"dataframe\">\n",
       "  <thead>\n",
       "    <tr style=\"text-align: right;\">\n",
       "      <th></th>\n",
       "      <th>Name</th>\n",
       "      <th>Gender</th>\n",
       "      <th>City</th>\n",
       "      <th>State</th>\n",
       "      <th>Email</th>\n",
       "      <th>DOB</th>\n",
       "      <th>Picture</th>\n",
       "    </tr>\n",
       "  </thead>\n",
       "  <tbody>\n",
       "    <tr>\n",
       "      <th>0</th>\n",
       "      <td>Caroliene Walta</td>\n",
       "      <td>female</td>\n",
       "      <td>Elshout</td>\n",
       "      <td>Utrecht</td>\n",
       "      <td>caroliene.walta@example.com</td>\n",
       "      <td>1985-03-29T19:04:39.877Z</td>\n",
       "      <td>https://randomuser.me/api/portraits/women/27.jpg</td>\n",
       "    </tr>\n",
       "    <tr>\n",
       "      <th>1</th>\n",
       "      <td>Maya Martinez</td>\n",
       "      <td>female</td>\n",
       "      <td>Le Mont-sur-Lausanne</td>\n",
       "      <td>Valais</td>\n",
       "      <td>maya.martinez@example.com</td>\n",
       "      <td>1967-04-25T13:28:20.444Z</td>\n",
       "      <td>https://randomuser.me/api/portraits/women/45.jpg</td>\n",
       "    </tr>\n",
       "    <tr>\n",
       "      <th>2</th>\n",
       "      <td>Tammy Carpenter</td>\n",
       "      <td>female</td>\n",
       "      <td>West Valley City</td>\n",
       "      <td>Louisiana</td>\n",
       "      <td>tammy.carpenter@example.com</td>\n",
       "      <td>1955-12-11T08:10:52.953Z</td>\n",
       "      <td>https://randomuser.me/api/portraits/women/58.jpg</td>\n",
       "    </tr>\n",
       "    <tr>\n",
       "      <th>3</th>\n",
       "      <td>Emma Bergeron</td>\n",
       "      <td>female</td>\n",
       "      <td>Hampstead</td>\n",
       "      <td>Nova Scotia</td>\n",
       "      <td>emma.bergeron@example.com</td>\n",
       "      <td>1989-05-04T01:39:40.937Z</td>\n",
       "      <td>https://randomuser.me/api/portraits/women/13.jpg</td>\n",
       "    </tr>\n",
       "    <tr>\n",
       "      <th>4</th>\n",
       "      <td>Madeleine Smith</td>\n",
       "      <td>female</td>\n",
       "      <td>Hastings</td>\n",
       "      <td>Gisborne</td>\n",
       "      <td>madeleine.smith@example.com</td>\n",
       "      <td>1996-02-04T14:00:39.701Z</td>\n",
       "      <td>https://randomuser.me/api/portraits/women/27.jpg</td>\n",
       "    </tr>\n",
       "    <tr>\n",
       "      <th>5</th>\n",
       "      <td>تینا سالاری</td>\n",
       "      <td>female</td>\n",
       "      <td>ساوه</td>\n",
       "      <td>آذربایجان شرقی</td>\n",
       "      <td>tyn.slry@example.com</td>\n",
       "      <td>1974-12-09T10:06:33.900Z</td>\n",
       "      <td>https://randomuser.me/api/portraits/women/5.jpg</td>\n",
       "    </tr>\n",
       "    <tr>\n",
       "      <th>6</th>\n",
       "      <td>Ronja Jean</td>\n",
       "      <td>female</td>\n",
       "      <td>Schwarzenberg</td>\n",
       "      <td>Schaffhausen</td>\n",
       "      <td>ronja.jean@example.com</td>\n",
       "      <td>1952-02-13T11:45:48.494Z</td>\n",
       "      <td>https://randomuser.me/api/portraits/women/22.jpg</td>\n",
       "    </tr>\n",
       "    <tr>\n",
       "      <th>7</th>\n",
       "      <td>Gladys Reed</td>\n",
       "      <td>female</td>\n",
       "      <td>Shepparton</td>\n",
       "      <td>Queensland</td>\n",
       "      <td>gladys.reed@example.com</td>\n",
       "      <td>1976-12-09T02:43:25.517Z</td>\n",
       "      <td>https://randomuser.me/api/portraits/women/50.jpg</td>\n",
       "    </tr>\n",
       "    <tr>\n",
       "      <th>8</th>\n",
       "      <td>Samantha Thompson</td>\n",
       "      <td>female</td>\n",
       "      <td>Christchurch</td>\n",
       "      <td>Waikato</td>\n",
       "      <td>samantha.thompson@example.com</td>\n",
       "      <td>1955-03-13T01:49:48.361Z</td>\n",
       "      <td>https://randomuser.me/api/portraits/women/42.jpg</td>\n",
       "    </tr>\n",
       "    <tr>\n",
       "      <th>9</th>\n",
       "      <td>Dennis Stewart</td>\n",
       "      <td>male</td>\n",
       "      <td>Sallins</td>\n",
       "      <td>Limerick</td>\n",
       "      <td>dennis.stewart@example.com</td>\n",
       "      <td>1961-04-03T21:10:06.146Z</td>\n",
       "      <td>https://randomuser.me/api/portraits/men/70.jpg</td>\n",
       "    </tr>\n",
       "  </tbody>\n",
       "</table>\n",
       "</div>"
      ],
      "text/plain": [
       "                Name  Gender                  City           State  \\\n",
       "0    Caroliene Walta  female               Elshout         Utrecht   \n",
       "1      Maya Martinez  female  Le Mont-sur-Lausanne          Valais   \n",
       "2    Tammy Carpenter  female      West Valley City       Louisiana   \n",
       "3      Emma Bergeron  female             Hampstead     Nova Scotia   \n",
       "4    Madeleine Smith  female              Hastings        Gisborne   \n",
       "5        تینا سالاری  female                  ساوه  آذربایجان شرقی   \n",
       "6         Ronja Jean  female         Schwarzenberg    Schaffhausen   \n",
       "7        Gladys Reed  female            Shepparton      Queensland   \n",
       "8  Samantha Thompson  female          Christchurch         Waikato   \n",
       "9     Dennis Stewart    male               Sallins        Limerick   \n",
       "\n",
       "                           Email                       DOB  \\\n",
       "0    caroliene.walta@example.com  1985-03-29T19:04:39.877Z   \n",
       "1      maya.martinez@example.com  1967-04-25T13:28:20.444Z   \n",
       "2    tammy.carpenter@example.com  1955-12-11T08:10:52.953Z   \n",
       "3      emma.bergeron@example.com  1989-05-04T01:39:40.937Z   \n",
       "4    madeleine.smith@example.com  1996-02-04T14:00:39.701Z   \n",
       "5           tyn.slry@example.com  1974-12-09T10:06:33.900Z   \n",
       "6         ronja.jean@example.com  1952-02-13T11:45:48.494Z   \n",
       "7        gladys.reed@example.com  1976-12-09T02:43:25.517Z   \n",
       "8  samantha.thompson@example.com  1955-03-13T01:49:48.361Z   \n",
       "9     dennis.stewart@example.com  1961-04-03T21:10:06.146Z   \n",
       "\n",
       "                                            Picture  \n",
       "0  https://randomuser.me/api/portraits/women/27.jpg  \n",
       "1  https://randomuser.me/api/portraits/women/45.jpg  \n",
       "2  https://randomuser.me/api/portraits/women/58.jpg  \n",
       "3  https://randomuser.me/api/portraits/women/13.jpg  \n",
       "4  https://randomuser.me/api/portraits/women/27.jpg  \n",
       "5   https://randomuser.me/api/portraits/women/5.jpg  \n",
       "6  https://randomuser.me/api/portraits/women/22.jpg  \n",
       "7  https://randomuser.me/api/portraits/women/50.jpg  \n",
       "8  https://randomuser.me/api/portraits/women/42.jpg  \n",
       "9    https://randomuser.me/api/portraits/men/70.jpg  "
      ]
     },
     "execution_count": 23,
     "metadata": {},
     "output_type": "execute_result"
    }
   ],
   "source": [
    "get_users()"
   ]
  },
  {
   "cell_type": "code",
   "execution_count": 65,
   "metadata": {
    "tags": []
   },
   "outputs": [],
   "source": [
    "df1 = pd.DataFrame(get_users())  "
   ]
  },
  {
   "cell_type": "markdown",
   "metadata": {},
   "source": [
    "Now we have a *pandas* dataframe that can be used for any testing purposes that the tester might have.\n"
   ]
  },
  {
   "cell_type": "markdown",
   "metadata": {},
   "source": [
    "## Example 2: Fruityvice API\n",
    "\n",
    "Another, more common way to use APIs, is through `requests` library. The next lab, Requests and HTTP, will contain more information about requests.\n",
    "\n",
    "We will start by importing all required libraries.\n"
   ]
  },
  {
   "cell_type": "code",
   "execution_count": 67,
   "metadata": {
    "tags": []
   },
   "outputs": [],
   "source": [
    "import requests\n",
    "import json"
   ]
  },
  {
   "cell_type": "markdown",
   "metadata": {},
   "source": [
    "We will obtain the [fruityvice](https://www.fruityvice.com) API data using `requests.get(\"url\")` function. The data is in a json format.\n"
   ]
  },
  {
   "cell_type": "code",
   "execution_count": 73,
   "metadata": {
    "tags": []
   },
   "outputs": [],
   "source": [
    "# Get data from the API\n",
    "response = requests.get(\"https://fruityvice.com/api/fruit/all\")"
   ]
  },
  {
   "cell_type": "markdown",
   "metadata": {},
   "source": [
    "We will retrieve results using `json.loads()` function.\n"
   ]
  },
  {
   "cell_type": "code",
   "execution_count": 75,
   "metadata": {
    "tags": []
   },
   "outputs": [
    {
     "name": "stdout",
     "output_type": "stream",
     "text": [
      "Failed to retrieve data. Status code: 502\n",
      "Response content: <!DOCTYPE html PUBLIC \"-//W3C//DTD XHTML 1.1//EN\" \"http://www.w3.org/TR/xhtml11/DTD/xhtml11.dtd\">\n",
      "\n",
      "<html xmlns=\"http://www.w3.org/1999/xhtml\" xml:lang=\"en\">\n",
      "    <head>\n",
      "        <title>The page is temporarily unavailable</title>\n",
      "        <meta http-equiv=\"Content-Type\" content=\"text/html; charset=UTF-8\" />\n",
      "        <style type=\"text/css\">\n",
      "            /*<![CDATA[*/\n",
      "            body {\n",
      "                background-color: #fff;\n",
      "                color: #000;\n",
      "                font-size: 0.9em;\n",
      "                font-family: sans-serif,helvetica;\n",
      "                margin: 0;\n",
      "                padding: 0;\n",
      "            }\n",
      "            :link {\n",
      "                color: #c00;\n",
      "            }\n",
      "            :visited {\n",
      "                color: #c00;\n",
      "            }\n",
      "            a:hover {\n",
      "                color: #f50;\n",
      "            }\n",
      "            h1 {\n",
      "                text-align: center;\n",
      "                margin: 0;\n",
      "                padding: 0.6em 2em 0.4em;\n",
      "                background-color: #294172;\n",
      "                color: #fff;\n",
      "                font-weight: normal;\n",
      "                font-size: 1.75em;\n",
      "                border-bottom: 2px solid #000;\n",
      "            }\n",
      "            h1 strong {\n",
      "                font-weight: bold;\n",
      "                font-size: 1.5em;\n",
      "            }\n",
      "            h2 {\n",
      "                text-align: center;\n",
      "                background-color: #3C6EB4;\n",
      "                font-size: 1.1em;\n",
      "                font-weight: bold;\n",
      "                color: #fff;\n",
      "                margin: 0;\n",
      "                padding: 0.5em;\n",
      "                border-bottom: 2px solid #294172;\n",
      "            }\n",
      "            h3 {\n",
      "                text-align: center;\n",
      "                background-color: #ff0000;\n",
      "                padding: 0.5em;\n",
      "                color: #fff;\n",
      "            }\n",
      "            hr {\n",
      "                display: none;\n",
      "            }\n",
      "            .content {\n",
      "                padding: 1em 5em;\n",
      "            }\n",
      "            .alert {\n",
      "                border: 2px solid #000;\n",
      "            }\n",
      "\n",
      "            img {\n",
      "                border: 2px solid #fff;\n",
      "                padding: 2px;\n",
      "                margin: 2px;\n",
      "            }\n",
      "            a:hover img {\n",
      "                border: 2px solid #294172;\n",
      "            }\n",
      "            .logos {\n",
      "                margin: 1em;\n",
      "                text-align: center;\n",
      "            }\n",
      "            /*]]>*/\n",
      "        </style>\n",
      "    </head>\n",
      "\n",
      "    <body>\n",
      "        <h1><strong>nginx error!</strong></h1>\n",
      "\n",
      "        <div class=\"content\">\n",
      "\n",
      "            <h3>The page you are looking for is temporarily unavailable.  Please try again later.</h3>\n",
      "\n",
      "            <div class=\"alert\">\n",
      "                <h2>Website Administrator</h2>\n",
      "                <div class=\"content\">\n",
      "                    <p>Something has triggered an error on your\n",
      "                    website.  This is the default error page for\n",
      "                    <strong>nginx</strong> that is distributed with\n",
      "                    Fedora.  It is located\n",
      "                    <tt>/usr/share/nginx/html/50x.html</tt></p>\n",
      "\n",
      "                    <p>You should customize this error page for your own\n",
      "                    site or edit the <tt>error_page</tt> directive in\n",
      "                    the <strong>nginx</strong> configuration file\n",
      "                    <tt>/etc/nginx/nginx.conf</tt>.</p>\n",
      "\n",
      "                </div>\n",
      "            </div>\n",
      "\n",
      "            <div class=\"logos\">\n",
      "                <a href=\"http://nginx.net/\"><img\n",
      "                    src=\"/nginx-logo.png\"\n",
      "                    alt=\"[ Powered by nginx ]\"\n",
      "                    width=\"121\" height=\"32\" /></a>\n",
      "\n",
      "                <a href=\"http://fedoraproject.org/\"><img \n",
      "                    src=\"/poweredby.png\"\n",
      "                    alt=\"[ Powered by Fedora ]\" \n",
      "                    width=\"88\" height=\"31\" /></a>\n",
      "            </div>\n",
      "        </div>\n",
      "    </body>\n",
      "</html>\n",
      "\n"
     ]
    }
   ],
   "source": [
    "# Check the status code of the response\n",
    "if response.status_code == 200:\n",
    "    try:\n",
    "        # Parse the response text as JSON\n",
    "        results = json.loads(response.text)\n",
    "        print(results)\n",
    "    except json.JSONDecodeError as e:\n",
    "        print(f\"Error decoding JSON: {e}\")\n",
    "        print(f\"Response content: {response.text}\")\n",
    "else:\n",
    "    print(f\"Failed to retrieve data. Status code: {response.status_code}\")\n",
    "    print(f\"Response content: {response.text}\")\n"
   ]
  },
  {
   "cell_type": "markdown",
   "metadata": {},
   "source": [
    "We will convert our json data into *pandas* data frame. \n"
   ]
  },
  {
   "cell_type": "code",
   "execution_count": null,
   "metadata": {
    "tags": []
   },
   "outputs": [],
   "source": [
    "pd.DataFrame(results)"
   ]
  },
  {
   "cell_type": "markdown",
   "metadata": {},
   "source": [
    "The result is in a nested json format. The 'nutrition' column contains multiple subcolumns, so the data needs to be 'flattened' or normalized.\n"
   ]
  },
  {
   "cell_type": "code",
   "execution_count": null,
   "metadata": {
    "tags": []
   },
   "outputs": [],
   "source": [
    "df2 = pd.json_normalize(results)"
   ]
  },
  {
   "cell_type": "code",
   "execution_count": null,
   "metadata": {
    "tags": []
   },
   "outputs": [],
   "source": [
    "df2"
   ]
  },
  {
   "cell_type": "markdown",
   "metadata": {},
   "source": [
    "Let's see if we can extract some information from this dataframe. Perhaps, we need to know the family and genus of a cherry.\n"
   ]
  },
  {
   "cell_type": "code",
   "execution_count": null,
   "metadata": {
    "tags": []
   },
   "outputs": [],
   "source": [
    "cherry = df2.loc[df2[\"name\"] == 'Cherry']\n",
    "(cherry.iloc[0]['family']) , (cherry.iloc[0]['genus'])"
   ]
  },
  {
   "cell_type": "markdown",
   "metadata": {},
   "source": [
    "## Exercise 2\n",
    "In this Exercise, find out how many calories are contained in a banana.\n"
   ]
  },
  {
   "cell_type": "code",
   "execution_count": null,
   "metadata": {
    "tags": []
   },
   "outputs": [],
   "source": [
    "# Write your code here\n",
    "\n",
    "cal_banana = df2.loc[df2[\"name\"] == 'Banana']\n",
    "cal_banana.iloc[0]['nutritions.calories']\n"
   ]
  },
  {
   "cell_type": "markdown",
   "metadata": {},
   "source": [
    "**UNABLE TO PERFORM EXERCISE 1 AND 2 due to issue with API server itself**"
   ]
  },
  {
   "cell_type": "markdown",
   "metadata": {},
   "source": [
    "## Exercise 3\n",
    "\n",
    "This [page](https://mixedanalytics.com/blog/list-actually-free-open-no-auth-needed-apis/) contains a list of free public APIs for you to practice. Let us deal with the following example.\n",
    "\n",
    "#### Official Joke API \n",
    "This API returns random jokes from a database. The following URL can be used to retrieve 10 random jokes.\n",
    "\n",
    "https://official-joke-api.appspot.com/jokes/ten\n",
    "\n",
    "1. Using `requests.get(\"url\")` function, load the data from the URL.\n"
   ]
  },
  {
   "cell_type": "code",
   "execution_count": 100,
   "metadata": {
    "tags": []
   },
   "outputs": [
    {
     "data": {
      "text/plain": [
       "<Response [200]>"
      ]
     },
     "execution_count": 100,
     "metadata": {},
     "output_type": "execute_result"
    }
   ],
   "source": [
    "# Write your code here\n",
    "\n",
    "data = requests.get('https://official-joke-api.appspot.com/jokes/ten')\n",
    "data"
   ]
  },
  {
   "cell_type": "markdown",
   "metadata": {},
   "source": [
    "<details><summary>Click here for the solution</summary>\n",
    "\n",
    "```python\n",
    "data2 = requests.get(\"https://official-joke-api.appspot.com/jokes/ten\")\n",
    "```\n",
    "\n",
    "</details>\n"
   ]
  },
  {
   "cell_type": "markdown",
   "metadata": {},
   "source": [
    "2. Retrieve results using `json.loads()` function.\n"
   ]
  },
  {
   "cell_type": "code",
   "execution_count": 106,
   "metadata": {
    "tags": []
   },
   "outputs": [
    {
     "data": {
      "text/plain": [
       "[{'type': 'general',\n",
       "  'setup': 'How many seconds are in a year?',\n",
       "  'punchline': '12. January 2nd, February 2nd, March 2nd, April 2nd.... etc',\n",
       "  'id': 142},\n",
       " {'type': 'general',\n",
       "  'setup': 'How do you get a baby alien to sleep?',\n",
       "  'punchline': 'You rocket.',\n",
       "  'id': 124},\n",
       " {'type': 'general',\n",
       "  'setup': 'What do you call a girl between two posts?',\n",
       "  'punchline': 'Annette.',\n",
       "  'id': 207},\n",
       " {'type': 'programming',\n",
       "  'setup': 'How many React developers does it take to change a lightbulb?',\n",
       "  'punchline': 'None, they prefer dark mode.',\n",
       "  'id': 410},\n",
       " {'type': 'general',\n",
       "  'setup': 'What kind of shoes does a thief wear?',\n",
       "  'punchline': 'Sneakers',\n",
       "  'id': 9},\n",
       " {'type': 'general',\n",
       "  'setup': 'Why do choirs keep buckets handy?',\n",
       "  'punchline': 'So they can carry their tune',\n",
       "  'id': 345},\n",
       " {'type': 'general',\n",
       "  'setup': 'What kind of tree fits in your hand?',\n",
       "  'punchline': 'A palm tree!',\n",
       "  'id': 257},\n",
       " {'type': 'programming',\n",
       "  'setup': 'A programmer puts two glasses on his bedside table before going to sleep.',\n",
       "  'punchline': 'A full one, in case he gets thirsty, and an empty one, in case he doesn’t.',\n",
       "  'id': 364},\n",
       " {'type': 'programming',\n",
       "  'setup': 'Why did the programmer go broke?',\n",
       "  'punchline': 'He used up all his cache',\n",
       "  'id': 417},\n",
       " {'type': 'general',\n",
       "  'setup': 'When do doctors get angry?',\n",
       "  'punchline': 'When they run out of patients.',\n",
       "  'id': 280}]"
      ]
     },
     "execution_count": 106,
     "metadata": {},
     "output_type": "execute_result"
    }
   ],
   "source": [
    "# Write your code here\n",
    "\n",
    "results_data = json.loads(data.text)\n",
    "results_data"
   ]
  },
  {
   "cell_type": "markdown",
   "metadata": {},
   "source": [
    "3. Convert json data into *pandas* data frame. Drop the type and id columns.\n"
   ]
  },
  {
   "cell_type": "code",
   "execution_count": 112,
   "metadata": {
    "tags": []
   },
   "outputs": [
    {
     "data": {
      "text/html": [
       "<div>\n",
       "<style scoped>\n",
       "    .dataframe tbody tr th:only-of-type {\n",
       "        vertical-align: middle;\n",
       "    }\n",
       "\n",
       "    .dataframe tbody tr th {\n",
       "        vertical-align: top;\n",
       "    }\n",
       "\n",
       "    .dataframe thead th {\n",
       "        text-align: right;\n",
       "    }\n",
       "</style>\n",
       "<table border=\"1\" class=\"dataframe\">\n",
       "  <thead>\n",
       "    <tr style=\"text-align: right;\">\n",
       "      <th></th>\n",
       "      <th>setup</th>\n",
       "      <th>punchline</th>\n",
       "    </tr>\n",
       "  </thead>\n",
       "  <tbody>\n",
       "    <tr>\n",
       "      <th>0</th>\n",
       "      <td>How many seconds are in a year?</td>\n",
       "      <td>12. January 2nd, February 2nd, March 2nd, Apri...</td>\n",
       "    </tr>\n",
       "    <tr>\n",
       "      <th>1</th>\n",
       "      <td>How do you get a baby alien to sleep?</td>\n",
       "      <td>You rocket.</td>\n",
       "    </tr>\n",
       "    <tr>\n",
       "      <th>2</th>\n",
       "      <td>What do you call a girl between two posts?</td>\n",
       "      <td>Annette.</td>\n",
       "    </tr>\n",
       "    <tr>\n",
       "      <th>3</th>\n",
       "      <td>How many React developers does it take to chan...</td>\n",
       "      <td>None, they prefer dark mode.</td>\n",
       "    </tr>\n",
       "    <tr>\n",
       "      <th>4</th>\n",
       "      <td>What kind of shoes does a thief wear?</td>\n",
       "      <td>Sneakers</td>\n",
       "    </tr>\n",
       "    <tr>\n",
       "      <th>5</th>\n",
       "      <td>Why do choirs keep buckets handy?</td>\n",
       "      <td>So they can carry their tune</td>\n",
       "    </tr>\n",
       "    <tr>\n",
       "      <th>6</th>\n",
       "      <td>What kind of tree fits in your hand?</td>\n",
       "      <td>A palm tree!</td>\n",
       "    </tr>\n",
       "    <tr>\n",
       "      <th>7</th>\n",
       "      <td>A programmer puts two glasses on his bedside t...</td>\n",
       "      <td>A full one, in case he gets thirsty, and an em...</td>\n",
       "    </tr>\n",
       "    <tr>\n",
       "      <th>8</th>\n",
       "      <td>Why did the programmer go broke?</td>\n",
       "      <td>He used up all his cache</td>\n",
       "    </tr>\n",
       "    <tr>\n",
       "      <th>9</th>\n",
       "      <td>When do doctors get angry?</td>\n",
       "      <td>When they run out of patients.</td>\n",
       "    </tr>\n",
       "  </tbody>\n",
       "</table>\n",
       "</div>"
      ],
      "text/plain": [
       "                                               setup  \\\n",
       "0                    How many seconds are in a year?   \n",
       "1              How do you get a baby alien to sleep?   \n",
       "2         What do you call a girl between two posts?   \n",
       "3  How many React developers does it take to chan...   \n",
       "4              What kind of shoes does a thief wear?   \n",
       "5                  Why do choirs keep buckets handy?   \n",
       "6               What kind of tree fits in your hand?   \n",
       "7  A programmer puts two glasses on his bedside t...   \n",
       "8                   Why did the programmer go broke?   \n",
       "9                         When do doctors get angry?   \n",
       "\n",
       "                                           punchline  \n",
       "0  12. January 2nd, February 2nd, March 2nd, Apri...  \n",
       "1                                        You rocket.  \n",
       "2                                           Annette.  \n",
       "3                       None, they prefer dark mode.  \n",
       "4                                           Sneakers  \n",
       "5                       So they can carry their tune  \n",
       "6                                       A palm tree!  \n",
       "7  A full one, in case he gets thirsty, and an em...  \n",
       "8                           He used up all his cache  \n",
       "9                     When they run out of patients.  "
      ]
     },
     "execution_count": 112,
     "metadata": {},
     "output_type": "execute_result"
    }
   ],
   "source": [
    "# Write your code here\n",
    "\n",
    "\n",
    "import pandas as pd\n",
    "import json\n",
    "\n",
    "df3 = pd.DataFrame(results_data)\n",
    "df3.drop(columns=[\"type\",\"id\"],inplace=True)\n",
    "df3"
   ]
  },
  {
   "cell_type": "markdown",
   "metadata": {},
   "source": [
    "# Congratulations! - You have completed the lab\n"
   ]
  },
  {
   "cell_type": "markdown",
   "metadata": {},
   "source": [
    "## Author\n",
    "<a href=\"https://www.linkedin.com/in/svitlana-kramar\" target=\"_blank\">Svitlana Kramar</a>\n",
    "\n",
    "Svitlana is a master’s degree Data Science and Analytics student at University of Calgary, who enjoys travelling, learning new languages and cultures and loves spreading her passion for Data Science.\n",
    "\n",
    "## Additional Contributor\n",
    "<a href=\"https://www.linkedin.com/in/abhishek-gagneja-23051987/\" target=\"_blank\">Abhishek Gagneja</a>\n"
   ]
  },
  {
   "cell_type": "markdown",
   "metadata": {},
   "source": [
    "Copyright © 2023 IBM Corporation. All rights reserved.\n"
   ]
  }
 ],
 "metadata": {
  "kernelspec": {
   "display_name": "Python 3 (ipykernel)",
   "language": "python",
   "name": "python3"
  },
  "language_info": {
   "codemirror_mode": {
    "name": "ipython",
    "version": 3
   },
   "file_extension": ".py",
   "mimetype": "text/x-python",
   "name": "python",
   "nbconvert_exporter": "python",
   "pygments_lexer": "ipython3",
   "version": "3.12.3"
  }
 },
 "nbformat": 4,
 "nbformat_minor": 4
}
